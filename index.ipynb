{
 "cells": [
  {
   "cell_type": "markdown",
   "metadata": {},
   "source": [
    "# Gallery of examples\n",
    "\n",
    "![logo_text.png](docs/source/_static/EinsteinPy_trans.png)\n",
    "\n",
    "Here you can browse a gallery of examples using EinsteinPy in the form of Jupyter notebooks."
   ]
  },
  {
   "cell_type": "markdown",
   "metadata": {},
   "source": [
    "## [Visualizing advance of perihelion of a test particle in Schwarzschild space-time](docs/source/examples/Visualizing_advance_of_perihelion_of_a_test_particle_in_Schwarzschild_space-time.ipynb)\n",
    "\n",
    "[![orbit](docs/source/examples/perihelion_advance.png)](docs/source/examples/Visualizing_advance_of_perihelion_of_a_test_particle_in_Schwarzschild_space-time.ipynb)\n",
    "\n",
    "## [Animations in EinsteinPy](docs/source/examples/Animations_in_EinsteinPy.ipynb)\n",
    "\n",
    "[![animation](docs/source/examples/scatter_animation.gif)](docs/source/examples/Animations_in_EinsteinPy.ipynb)\n",
    "\n",
    "## [Analysing Earth using EinsteinPy!](docs/source/examples/Analysing_Earth_using_EinsteinPy!.ipynb)\n",
    "\n",
    "[![orbit](docs/source/examples/earth.png)](docs/source/examples/Analysing_Earth_using_EinsteinPy!.ipynb)\n",
    "\n",
    "## [Symbolically Understanding Christoffel Symbol and Riemann Metric Tensor using EinsteinPy](docs/source/examples/Symbolically_Understanding_Christoffel_Symbol_and_Riemann_Curvature_Tensor_using_EinsteinPy.ipynb)\n",
    "\n",
    "[![symbol](docs/source/examples/symbol.png)](docs/source/examples/Symbolically_Understanding_Christoffel_Symbol_and_Riemann_Curvature_Tensor_using_EinsteinPy.ipynb)\n",
    "\n",
    "## [Visualizing frame dragging in Kerr spacetime](docs/source/examples/Visualizing_frame_dragging_in_Kerr_spacetime.ipynb)\n",
    "\n",
    "[![drag](docs/source/examples/drag.png)](docs/source/examples/Visualizing_frame_dragging_in_Kerr_spacetime.ipynb)\n",
    "\n",
    "## [Visualizing event horizon and ergosphere of Kerr black hole](docs/source/examples/Visualizing_event_horizon_and_ergosphere_of_Kerr_black_hole.ipynb)\n",
    "\n",
    "[![orbit](docs/source/examples/kerrblackhole.png)](docs/source/examples/Visualizing_event_horizon_and_ergosphere_of_Kerr_black_hole.ipynb)\n",
    "\n",
    "\n",
    "## [Spatial Hypersurface Embedding for Schwarzschild Space-Time!](docs/source/examples/Plotting_spacial_hypersurface_embedding_for_schwarzschild_spacetime.ipynb)\n",
    "\n",
    "[![orbit](docs/source/examples/hypersurface_surface.png)](docs/source/examples/Plotting_spacial_hypersurface_embedding_for_schwarzschild_spacetime.ipynb)\n",
    "\n",
    "\n",
    "## [Playing with Contravariant and Covariant Indices in Tensors(Symbolic)](docs/source/examples/Playing_with_Contravariant_and_Covariant_Indices_in_Tensors(Symbolic).ipynb)\n",
    "\n",
    "[![orbit](docs/source/examples/contravariant_symbolic.png)](docs/source/examples/Playing_with_Contravariant_and_Covariant_Indices_in_Tensors(Symbolic).ipynb)\n",
    "\n",
    "## [Ricci Tensor and Scalar Curvature calculations using Symbolic module](docs/source/examples/Ricci_Tensor_and_Scalar_Curvature_symbolic_calculation.ipynb)\n",
    "\n",
    "[![symbol](docs/source/examples/GregorioRicciCurbastro.jpg)](docs/source/examples/Ricci_Tensor_and_Scalar_Curvature_symbolic_calculation.ipynb)\n",
    "<center><em>Gregorio Ricci-Curbastro</em></center>\n",
    "\n",
    "## [Weyl Tensor calculations using Symbolic module](docs/source/examples/Weyl_Tensor_symbolic_calculation.ipynb)\n",
    "\n",
    "[![symbol](docs/source/examples/HermannWeyl.jpeg)](docs/source/examples/Weyl_Tensor_symbolic_calculation.ipynb)\n",
    "<center><em>Hermann Weyl</em></center>\n",
    "\n",
    "## [Eisntein Tensor calculations using Symbolic module](docs/source/examples/Einstein_Tensor_symbolic_calculation.ipynb)\n",
    "\n",
    "[![symbol](docs/source/examples/einstein.png)](docs/source/examples/Einstein_Tensor_symbolic_calculation.ipynb)"
   ]
  }
 ],
 "metadata": {
  "kernelspec": {
   "display_name": "Python 3",
   "language": "python",
   "name": "python3"
  },
  "language_info": {
   "codemirror_mode": {
    "name": "ipython",
    "version": 3
   },
   "file_extension": ".py",
   "mimetype": "text/x-python",
   "name": "python",
   "nbconvert_exporter": "python",
   "pygments_lexer": "ipython3",
   "version": "3.6.8"
  }
 },
 "nbformat": 4,
 "nbformat_minor": 2
}
