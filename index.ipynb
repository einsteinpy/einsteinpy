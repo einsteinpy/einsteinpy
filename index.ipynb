{
 "cells": [
  {
   "cell_type": "markdown",
   "metadata": {},
   "source": [
    "# Gallery of examples\n",
    "\n",
    "![logo_text.png](docs/source/_static/EinsteinPy_trans.png)\n",
    "\n",
    "Here you can browse a gallery of examples using EinsteinPy in the form of Jupyter notebooks."
   ]
  },
  {
   "cell_type": "markdown",
   "metadata": {},
   "source": [
    "## [Analysing Earth using EinsteinPy!](docs/source/examples/Analysing Earth using EinsteinPy!.ipynb)\n",
    "\n",
    "[![orbit](docs/source/examples/earth.png)](docs/source/examples/Analysing Earth using EinsteinPy!.ipynb)\n",
    "\n",
    "## [Exploring the New Horizons launch](docs/source/examples/Symbolically Understanding Christoffel Symbol and Riemann Metric Tensor using EinsteinPy.ipynb)\n",
    "\n",
    "[![symbol](docs/source/examples/symbol.png)](docs/source/examples/Symbolically Understanding Christoffel Symbol and Riemann Metric Tensor using EinsteinPy.ipynb)"
   ]
  }
 ],
 "metadata": {
  "kernelspec": {
   "display_name": "Python 3",
   "language": "python",
   "name": "python3"
  },
  "language_info": {
   "codemirror_mode": {
    "name": "ipython",
    "version": 3
   },
   "file_extension": ".py",
   "mimetype": "text/x-python",
   "name": "python",
   "nbconvert_exporter": "python",
   "pygments_lexer": "ipython3",
   "version": "3.6.6"
  }
 },
 "nbformat": 4,
 "nbformat_minor": 2
}
