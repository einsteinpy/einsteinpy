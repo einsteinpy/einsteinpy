{
 "cells": [
  {
   "cell_type": "markdown",
   "metadata": {},
   "source": [
    "# Gallery of examples\n",
    "\n",
    "![logo_text.png](docs/source/_static/EinsteinPy_trans.png)\n",
    "\n",
    "Here you can browse a gallery of examples using EinsteinPy in the form of Jupyter notebooks."
   ]
  },
  {
   "cell_type": "markdown",
   "metadata": {},
   "source": [
    "## [Visualizing advance of perihelion of a test particle in Schwarzschild space-time](docs/source/examples/Visualizing%20advance%20of%20perihelion%20of%20a%20test%20particle%20in%20Schwarzschild%20space-time.ipynb)\n",
    "\n",
    "[![orbit](docs/source/examples/imgs/perihelion_advance.png)](docs/source/examples/Visualizing%20advance%20of%20perihelion%20of%20a%20test%20particle%20in%20Schwarzschild%20space-time.ipynb)\n",
    "\n",
    "## [Animations in EinsteinPy](docs/source/examples/Animations_in_EinsteinPy.ipynb)\n",
    "\n",
    "[![animation](docs/source/examples/imgs/scatter_animation.gif)](docs/source/examples/Animations_in_EinsteinPy.ipynb)\n",
    "\n",
    "## [Analysing Earth using EinsteinPy!](docs/source/examples/Analysing%20Earth%20using%20EinsteinPy!.ipynb)\n",
    "\n",
    "[![orbit](docs/source/examples/imgs/earth.png)](docs/source/examples/Analysing%20Earth%20using%20EinsteinPy!.ipynb)\n",
    "\n",
    "## [Symbolically Understanding Christoffel Symbol and Riemann Metric Tensor using EinsteinPy](docs/source/examples/Symbolically%20Understanding%20Christoffel%20Symbol%20and%20Riemann%20Curvature%20Tensor%20using%20EinsteinPy.ipynb)\n",
    "\n",
    "[![symbol](docs/source/examples/imgs/symbol.png)](docs/source/examples/Symbolically%20Understanding%20Christoffel%20Symbol%20and%20Riemann%20Curvature%20Tensor%20using%20EinsteinPy.ipynb)\n",
    "\n",
    "## [Visualizing frame dragging in Kerr spacetime](docs/source/examples/Visualizing%20frame%20dragging%20in%20Kerr%20spacetime.ipynb)\n",
    "[![drag](docs/source/examples/imgs/drag.png)](docs/source/examples/Visualizing%20frame%20dragging%20in%20Kerr%20spacetime.ipynb)\n",
    "\n",
    "## [Visualizing event horizon and ergosphere of Kerr black hole](docs/source/examples/Visualizing%20event%20horizon%20and%20ergosphere%20of%20Kerr%20black%20hole.ipynb)\n",
    "\n",
    "[![orbit](docs/source/examples/imgs/kerrblackhole.png)](docs/source/examples/Visualizing%20event%20horizon%20and%20ergosphere%20of%20Kerr%20black%20hole.ipynb)\n",
    "\n",
    "\n",
    "## [Spatial Hypersurface Embedding for Schwarzschild Space-Time!](docs/source/examples/Plotting%20spatial%20hypersurface%20embedding%20for%20schwarzschild%20spacetime.ipynb)\n",
    "\n",
    "[![orbit](docs/source/examples/imgs/hypersurface_surface.png)](docs/source/examples/Plotting%20spatial%20hypersurface%20embedding%20for%20schwarzschild%20spacetime.ipynb)\n",
    "\n",
    "\n",
    "## [Playing with Contravariant and Covariant Indices in Tensors(Symbolic)](docs/source/examples/Playing%20with%20Contravariant%20and%20Covariant%20Indice%20in%20Tensors(Symbolic).ipynb)\n",
    "\n",
    "[![orbit](docs/source/examples/imgs/contravariant_symbolic.png)](docs/source/examples/Playing%20with%20Contravariant%20and%20Covariant%20Indice%20in%20Tensors(Symbolic).ipynb)\n",
    "\n",
    "## [Ricci Tensor and Scalar Curvature calculations using Symbolic module](docs/source/examples/Ricci%20Tensor%20and%20Scalar%20Curvature%20symbolic%20calculation.ipynb)\n",
    "\n",
    "[![symbol](docs/source/examples/imgs/GregorioRicciCurbastro.jpg)](docs/source/examples/Ricci%20Tensor%20and%20Scalar%20Curvature%20symbolic%20calculation.ipynb)\n",
    "<center><em>Gregorio Ricci-Curbastro</em></center>\n",
    "\n",
    "## [Weyl Tensor calculations using Symbolic module](docs/source/examples/Weyl%20Tensor%20symbolic%20calculation.ipynb)\n",
    "\n",
    "[![symbol](docs/source/examples/imgs/HermannWeyl.jpeg)](docs/source/examples/Weyl%20Tensor%20symbolic%20calculation.ipynb)\n",
    "<center><em>Hermann Weyl</em></center>\n",
    "\n",
    "## [Eisntein Tensor calculations using Symbolic module](docs/source/examples/Einstein%20Tensor%20symbolic%20calculation.ipynb)\n",
    "\n",
    "[![symbol](docs/source/examples/imgs/einstein.png)](docs/source/examples/Einstein%20Tensor%20symbolic%20calculation.ipynb)\n",
    "\n",
    "\n",
    "## [Lambdify in Symbolic module](docs/source/examples/Lambdify%20symbolic%20calculation.ipynb)\n",
    "\n",
    "[![symbol](docs/source/examples/imgs/lambdifygenerated.png)](docs/source/examples/Lambdify%20symbolic%20calculation.ipynb)\n",
    "\n",
    "## [Predefined Metrics in Symbolic Module](docs/source/examples/Predefined%20Metrics%20in%20Symbolic%20Module.ipynb)\n",
    "\n",
    "[![symbol](docs/source/examples/imgs/predefined_metrics.png)](docs/source/examples/Predefined%20Metrics%20in%20Symbolic%20Module.ipynb)\n",
    "\n",
    "## [Shadow cast by an thin emission disk around a black hole](docs/source/examples/Shadow%20cast%20by%20an%20thin%20emission%20disk%20around%20a%20black%20hole.ipynb)\n",
    "\n",
    "[![shadow](docs/source/examples/imgs/shadow.png)](docs/source/examples/Shadow%20cast%20by%20an%20thin%20emission%20disk%20around%20a%20black%20hole.ipynb)\n"
   ]
  }
 ],
 "metadata": {
  "kernelspec": {
   "display_name": "Python 3",
   "language": "python",
   "name": "python3"
  },
  "language_info": {
   "codemirror_mode": {
    "name": "ipython",
    "version": 3
   },
   "file_extension": ".py",
   "mimetype": "text/x-python",
   "name": "python",
   "nbconvert_exporter": "python",
   "pygments_lexer": "ipython3",
   "version": "3.7.6"
  }
 },
 "nbformat": 4,
 "nbformat_minor": 2
}
