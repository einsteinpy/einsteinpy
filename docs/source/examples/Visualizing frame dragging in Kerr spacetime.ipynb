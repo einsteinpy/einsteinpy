{
 "cells": [
  {
   "cell_type": "markdown",
   "metadata": {},
   "source": [
    "# Visualizing frame dragging in Kerr space-time\n",
    "\n",
    "### Importing required modules"
   ]
  },
  {
   "cell_type": "code",
   "execution_count": 1,
   "metadata": {},
   "outputs": [],
   "source": [
    "from astropy import units as u\n",
    "import numpy as np\n",
    "from einsteinpy.metric import Kerr\n",
    "from einsteinpy.coordinates import BoyerLindquistDifferential\n",
    "from einsteinpy.bodies import Body\n",
    "from einsteinpy.geodesic import Geodesic"
   ]
  },
  {
   "cell_type": "markdown",
   "metadata": {},
   "source": [
    "### Defining position/velocity of test particle\n",
    "  - Initial velocity is kept 0"
   ]
  },
  {
   "cell_type": "code",
   "execution_count": 2,
   "metadata": {},
   "outputs": [],
   "source": [
    "M = 1.989e30 * u.kg\n",
    "a = 0.3 * u.m\n",
    "BL_obj = BoyerLindquistDifferential(49.95e5 * u.km, np.pi / 2 * u.rad, np.pi * u.rad,\n",
    "                                    0 * u.km / u.s, 0 * u.rad / u.s, 0 * u.rad / u.s,\n",
    "                                    a)"
   ]
  },
  {
   "cell_type": "code",
   "execution_count": 3,
   "metadata": {},
   "outputs": [],
   "source": [
    "end_lambda = ((1 * u.year).to(u.s)).value / 930\n",
    "# Choosing stepsize for ODE solver to be 0.02 minutes\n",
    "stepsize = ((0.02 * u.min).to(u.s)).value"
   ]
  },
  {
   "cell_type": "code",
   "execution_count": 4,
   "metadata": {},
   "outputs": [],
   "source": [
    "obj = Kerr.from_coords(BL_obj, M)\n",
    "ans = obj.calculate_trajectory(\n",
    "    end_lambda=end_lambda, OdeMethodKwargs={\"stepsize\": stepsize}, return_cartesian=True\n",
    ")[1]\n",
    "x, y = ans[:,1], ans[:,2]"
   ]
  },
  {
   "cell_type": "markdown",
   "metadata": {},
   "source": [
    "### Plotting the trajectory"
   ]
  },
  {
   "cell_type": "code",
   "execution_count": 5,
   "metadata": {},
   "outputs": [],
   "source": [
    "%matplotlib inline"
   ]
  },
  {
   "cell_type": "code",
   "execution_count": 6,
   "metadata": {},
   "outputs": [
    {
     "data": {
      "image/png": "[encoded data removed]",
      "text/plain": [
       "<Figure size 432x288 with 1 Axes>"
      ]
     },
     "metadata": {
      "needs_background": "light"
     },
     "output_type": "display_data"
    }
   ],
   "source": [
    "import matplotlib.pyplot as plt\n",
    "plt.scatter(x,y, s=0.2)\n",
    "plt.scatter(0,0, c='black')\n",
    "plt.show()"
   ]
  },
  {
   "cell_type": "markdown",
   "metadata": {},
   "source": [
    "#### It can be seen that as the particle approaches the massive body, it acquires axial velocity due to spin and frame-dragging effect of the body."
   ]
  },
  {
   "cell_type": "markdown",
   "metadata": {},
   "source": [
    "## Another Way of calculating Geodesics"
   ]
  },
  {
   "cell_type": "code",
   "execution_count": 7,
   "metadata": {},
   "outputs": [],
   "source": [
    "a = 0.3 * u.m\n",
    "Attractor = Body(name=\"BH\", mass=1.989e30 * u.kg, a=a)\n",
    "init_conditions = BoyerLindquistDifferential(49.95e5 * u.km, np.pi / 2 * u.rad, \n",
    "                                             np.pi * u.rad, 0 * u.km / u.s, \n",
    "                                             0 * u.rad / u.s, 0 * u.rad / u.s,\n",
    "                                             a)\n",
    "Particle = Body(differential=init_conditions, parent=Attractor)"
   ]
  },
  {
   "cell_type": "code",
   "execution_count": 8,
   "metadata": {},
   "outputs": [],
   "source": [
    "geodesic = Geodesic(body=Particle, time=0 * u.s, end_lambda=33932.90, \n",
    "                    step_size=1.2, metric=Kerr)\n",
    "ans = geodesic.trajectory"
   ]
  },
  {
   "cell_type": "code",
   "execution_count": 9,
   "metadata": {},
   "outputs": [],
   "source": [
    "x, y = ans[:,1], ans[:,2]"
   ]
  },
  {
   "cell_type": "code",
   "execution_count": 10,
   "metadata": {},
   "outputs": [
    {
     "data": {
      "image/png": "[encoded data removed]",
      "text/plain": [
       "<Figure size 432x288 with 1 Axes>"
      ]
     },
     "metadata": {
      "needs_background": "light"
     },
     "output_type": "display_data"
    }
   ],
   "source": [
    "%matplotlib inline\n",
    "\n",
    "plt.scatter(x,y, s=0.2)\n",
    "plt.scatter(0,0, c='red')\n",
    "plt.show()"
   ]
  }
 ],
 "metadata": {
  "kernelspec": {
   "display_name": "Python 3",
   "language": "python",
   "name": "python3"
  },
  "language_info": {
   "codemirror_mode": {
    "name": "ipython",
    "version": 3
   },
   "file_extension": ".py",
   "mimetype": "text/x-python",
   "name": "python",
   "nbconvert_exporter": "python",
   "pygments_lexer": "ipython3",
   "version": "3.6.8"
  }
 },
 "nbformat": 4,
 "nbformat_minor": 2
}
