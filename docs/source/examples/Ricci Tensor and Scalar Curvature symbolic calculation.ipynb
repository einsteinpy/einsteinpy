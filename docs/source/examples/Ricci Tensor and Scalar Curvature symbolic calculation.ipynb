{
 "cells": [
  {
   "cell_type": "markdown",
   "metadata": {},
   "source": [
    "# Ricci Tensor and Scalar Curvature calculations using Symbolic module"
   ]
  },
  {
   "cell_type": "code",
   "execution_count": 2,
   "metadata": {},
   "outputs": [
    {
     "ename": "ModuleNotFoundError",
     "evalue": "No module named 'einsteinpy'",
     "output_type": "error",
     "traceback": [
      "\u001b[0;31m---------------------------------------------------------------------------\u001b[0m",
      "\u001b[0;31mModuleNotFoundError\u001b[0m                       Traceback (most recent call last)",
      "\u001b[0;32m<ipython-input-2-6f95e2ca3e1b>\u001b[0m in \u001b[0;36m<module>\u001b[0;34m()\u001b[0m\n\u001b[1;32m      1\u001b[0m \u001b[0;32mimport\u001b[0m \u001b[0msympy\u001b[0m\u001b[0;34m\u001b[0m\u001b[0m\n\u001b[1;32m      2\u001b[0m \u001b[0;32mfrom\u001b[0m \u001b[0msympy\u001b[0m \u001b[0;32mimport\u001b[0m \u001b[0mcos\u001b[0m\u001b[0;34m,\u001b[0m \u001b[0msin\u001b[0m\u001b[0;34m,\u001b[0m \u001b[0msinh\u001b[0m\u001b[0;34m\u001b[0m\u001b[0m\n\u001b[0;32m----> 3\u001b[0;31m \u001b[0;32mfrom\u001b[0m \u001b[0meinsteinpy\u001b[0m\u001b[0;34m.\u001b[0m\u001b[0msymbolic\u001b[0m \u001b[0;32mimport\u001b[0m \u001b[0mMetricTensor\u001b[0m\u001b[0;34m,\u001b[0m \u001b[0mRicciTensor\u001b[0m\u001b[0;34m,\u001b[0m \u001b[0mRicciScalar\u001b[0m\u001b[0;34m\u001b[0m\u001b[0m\n\u001b[0m\u001b[1;32m      4\u001b[0m \u001b[0;32mfrom\u001b[0m \u001b[0meinsteinpy\u001b[0m\u001b[0;34m.\u001b[0m\u001b[0msymbolic\u001b[0m\u001b[0;34m.\u001b[0m\u001b[0mpredefined\u001b[0m \u001b[0;32mimport\u001b[0m \u001b[0mDeSitter\u001b[0m\u001b[0;34m\u001b[0m\u001b[0m\n\u001b[1;32m      5\u001b[0m \u001b[0msympy\u001b[0m\u001b[0;34m.\u001b[0m\u001b[0minit_printing\u001b[0m\u001b[0;34m(\u001b[0m\u001b[0;34m)\u001b[0m\u001b[0;34m\u001b[0m\u001b[0m\n",
      "\u001b[0;31mModuleNotFoundError\u001b[0m: No module named 'einsteinpy'"
     ]
    }
   ],
   "source": [
    "import sympy\n",
    "from sympy import cos, sin, sinh\n",
    "from einsteinpy.symbolic import MetricTensor, RicciTensor, RicciScalar\n",
    "from einsteinpy.symbolic.predefined import DeSitter\n",
    "sympy.init_printing()"
   ]
  },
  {
   "cell_type": "markdown",
   "metadata": {},
   "source": [
    "### Defining the Anti-de Sitter spacetime Metric"
   ]
  },
  {
   "cell_type": "code",
   "execution_count": 2,
   "metadata": {},
   "outputs": [],
   "source": [
    "DeSitter().tensor()"
   ]
  },
  {
   "cell_type": "markdown",
   "metadata": {},
   "source": [
    "### Calculating the Ricci Tensor(with both indices covariant)"
   ]
  },
  {
   "cell_type": "code",
   "execution_count": 3,
   "metadata": {},
   "outputs": [
    {
     "data": {
      "text/latex": [
       "$$\\left[\\begin{matrix}3 & 0 & 0 & 0\\\\0 & - 3 \\cos^{2}{\\left (t \\right )} & 0 & 0\\\\0 & 0 & \\left(\\sin^{2}{\\left (t \\right )} - 1\\right) \\sinh^{2}{\\left (\\chi \\right )} - 2 \\cos^{2}{\\left (t \\right )} \\sinh^{2}{\\left (\\chi \\right )} & 0\\\\0 & 0 & 0 & \\left(\\sin^{2}{\\left (t \\right )} - 1\\right) \\sin^{2}{\\left (\\theta \\right )} \\sinh^{2}{\\left (\\chi \\right )} - 2 \\sin^{2}{\\left (\\theta \\right )} \\cos^{2}{\\left (t \\right )} \\sinh^{2}{\\left (\\chi \\right )}\\end{matrix}\\right]$$"
      ],
      "text/plain": [
       "⎡3      0                            0                                        \n",
       "⎢                                                                             \n",
       "⎢         2                                                                   \n",
       "⎢0  -3⋅cos (t)                       0                                        \n",
       "⎢                                                                             \n",
       "⎢               ⎛   2       ⎞     2           2        2                      \n",
       "⎢0      0       ⎝sin (t) - 1⎠⋅sinh (χ) - 2⋅cos (t)⋅sinh (χ)                   \n",
       "⎢                                                                             \n",
       "⎢                                                            ⎛   2       ⎞    \n",
       "⎣0      0                            0                       ⎝sin (t) - 1⎠⋅sin\n",
       "\n",
       "            0                             ⎤\n",
       "                                          ⎥\n",
       "                                          ⎥\n",
       "            0                             ⎥\n",
       "                                          ⎥\n",
       "                                          ⎥\n",
       "            0                             ⎥\n",
       "                                          ⎥\n",
       "2        2           2       2        2   ⎥\n",
       " (θ)⋅sinh (χ) - 2⋅sin (θ)⋅cos (t)⋅sinh (χ)⎦"
      ]
     },
     "execution_count": 3,
     "metadata": {},
     "output_type": "execute_result"
    }
   ],
   "source": [
    "Ric = RicciTensor.from_metric(metric)\n",
    "Ric.tensor()"
   ]
  },
  {
   "cell_type": "markdown",
   "metadata": {},
   "source": [
    "### Calculating the Ricci Scalar(Scalar Curvature) from the Ricci Tensor"
   ]
  },
  {
   "cell_type": "code",
   "execution_count": 4,
   "metadata": {},
   "outputs": [
    {
     "data": {
      "image/png": "[encoded data removed]",
      "text/latex": [
       "$$-12$$"
      ],
      "text/plain": [
       "-12"
      ]
     },
     "execution_count": 4,
     "metadata": {},
     "output_type": "execute_result"
    }
   ],
   "source": [
    "R = RicciScalar.from_riccitensor(Ric)\n",
    "R.expr"
   ]
  },
  {
   "cell_type": "markdown",
   "metadata": {},
   "source": [
    "The curavture is -12 which is in-line with the theoretical results"
   ]
  }
 ],
 "metadata": {
  "kernelspec": {
   "display_name": "Python 3",
   "language": "python",
   "name": "python3"
  },
  "language_info": {
   "codemirror_mode": {
    "name": "ipython",
    "version": 3
   },
   "file_extension": ".py",
   "mimetype": "text/x-python",
   "name": "python",
   "nbconvert_exporter": "python",
   "pygments_lexer": "ipython3",
   "version": "3.7.0"
  }
 },
 "nbformat": 4,
 "nbformat_minor": 2
}
