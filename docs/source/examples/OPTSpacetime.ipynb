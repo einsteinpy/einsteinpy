{
 "cells": [
  {
   "cell_type": "code",
   "execution_count": 1,
   "metadata": {},
   "outputs": [],
   "source": [
    "import sympy\n",
    "\n",
    "from einsteinpy.symbolic import OPTSpacetime, OPTMetric, GenericVector, BaseRelativityTensor\n",
    "from einsteinpy.symbolic.predefined import Schwarzschild\n",
    "from einsteinpy.symbolic.tensor import tensor_product\n",
    "\n",
    "sympy.init_printing()"
   ]
  },
  {
   "cell_type": "code",
   "execution_count": 2,
   "metadata": {},
   "outputs": [
    {
     "data": {
      "image/png": "[encoded data removed]",
      "text/latex": [
       "$\\displaystyle \\left[\\begin{matrix}\\frac{r - r_{s}}{r} & 0 & 0 & 0\\\\0 & - \\frac{r}{r - r_{s}} & 0 & 0\\\\0 & 0 & - r^{2} & 0\\\\0 & 0 & 0 & - r^{2} \\sin^{2}{\\left(\\theta \\right)}\\end{matrix}\\right]$"
      ],
      "text/plain": [
       "⎡r - rₛ                          ⎤\n",
       "⎢──────    0      0        0     ⎥\n",
       "⎢  r                             ⎥\n",
       "⎢                                ⎥\n",
       "⎢         -r                     ⎥\n",
       "⎢  0     ──────   0        0     ⎥\n",
       "⎢        r - rₛ                  ⎥\n",
       "⎢                                ⎥\n",
       "⎢                  2             ⎥\n",
       "⎢  0       0     -r        0     ⎥\n",
       "⎢                                ⎥\n",
       "⎢                       2    2   ⎥\n",
       "⎣  0       0      0   -r ⋅sin (θ)⎦"
      ]
     },
     "execution_count": 2,
     "metadata": {},
     "output_type": "execute_result"
    }
   ],
   "source": [
    "g = Schwarzschild(c=1)\n",
    "\n",
    "t, r, theta, phi = g.symbols()\n",
    "r_s = g.variables[0]\n",
    "g.tensor()"
   ]
  },
  {
   "cell_type": "code",
   "execution_count": 3,
   "metadata": {},
   "outputs": [
    {
     "data": {
      "image/png": "[encoded data removed]",
      "text/latex": [
       "$\\displaystyle \\left[\\begin{matrix}0 & \\sqrt{\\frac{r - r_{s}}{r}} & 0 & 0\\end{matrix}\\right]$"
      ],
      "text/plain": [
       "⎡       ________      ⎤\n",
       "⎢      ╱ r - rₛ       ⎥\n",
       "⎢0    ╱  ──────   0  0⎥\n",
       "⎣   ╲╱     r          ⎦"
      ]
     },
     "execution_count": 3,
     "metadata": {},
     "output_type": "execute_result"
    }
   ],
   "source": [
    "nvec = GenericVector([0,sympy.sqrt((r-r_s)/r), 0,0], syms=g.symbols(), config=\"u\", parent_metric=g)\n",
    "nvec.tensor()"
   ]
  },
  {
   "cell_type": "code",
   "execution_count": 4,
   "metadata": {},
   "outputs": [
    {
     "data": {
      "image/png": "[encoded data removed]",
      "text/latex": [
       "$\\displaystyle -1$"
      ],
      "text/plain": [
       "-1"
      ]
     },
     "execution_count": 4,
     "metadata": {},
     "output_type": "execute_result"
    }
   ],
   "source": [
    "# For the 1+3 decomposition, we need a unit timelike vector \n",
    "nvec.norm()"
   ]
  },
  {
   "cell_type": "code",
   "execution_count": 5,
   "metadata": {},
   "outputs": [
    {
     "data": {
      "image/png": "[encoded data removed]",
      "text/latex": [
       "$\\displaystyle \\left[\\begin{matrix}\\frac{r - r_{s}}{r} & 0 & 0 & 0\\\\0 & 0 & 0 & 0\\\\0 & 0 & - r^{2} & 0\\\\0 & 0 & 0 & - r^{2} \\sin^{2}{\\left(\\theta \\right)}\\end{matrix}\\right]$"
      ],
      "text/plain": [
       "⎡r - rₛ                     ⎤\n",
       "⎢──────  0   0        0     ⎥\n",
       "⎢  r                        ⎥\n",
       "⎢                           ⎥\n",
       "⎢  0     0   0        0     ⎥\n",
       "⎢                           ⎥\n",
       "⎢             2             ⎥\n",
       "⎢  0     0  -r        0     ⎥\n",
       "⎢                           ⎥\n",
       "⎢                  2    2   ⎥\n",
       "⎣  0     0   0   -r ⋅sin (θ)⎦"
      ]
     },
     "execution_count": 5,
     "metadata": {},
     "output_type": "execute_result"
    }
   ],
   "source": [
    "g = OPTMetric(g.tensor(), nvec, syms=g.symbols())\n",
    "g.ProjectorTensor.tensor()"
   ]
  },
  {
   "cell_type": "code",
   "execution_count": 6,
   "metadata": {},
   "outputs": [
    {
     "name": "stdout",
     "output_type": "stream",
     "text": [
      "BelRobinsonTensor\n",
      "ChristoffelSymbols\n",
      "EinsteinTensor\n",
      "ExpansionScalar\n",
      "GravitoElectricTensor\n",
      "GravitoMagneticTensor\n",
      "LeviCivitaTensor\n",
      "Metric\n",
      "NormalVector\n",
      "ProjectedAlternatingTensor\n",
      "ProjectedAlternatingTensorDot\n",
      "ProjectedNormalDerivatives\n",
      "ProjectorTensor\n",
      "RicciScalar\n",
      "RicciTensor\n",
      "RiemannTensor\n",
      "SEMTensor\n",
      "ShearTensor\n",
      "VorticityTensor\n",
      "VorticityVector\n",
      "WeylTensor\n",
      "covariant_derivative\n",
      "curl\n",
      "div\n",
      "geodesic_equation\n",
      "projected_covariant_derivative\n",
      "projected_vector_dual\n",
      "projection\n",
      "pstf\n",
      "spatial_trace\n",
      "temporal_rotation\n",
      "vector_product\n"
     ]
    }
   ],
   "source": [
    "st = OPTSpacetime(g)\n",
    "for s in dir(st):\n",
    "    if not s.startswith('_'):\n",
    "        print(s)"
   ]
  },
  {
   "cell_type": "markdown",
   "metadata": {},
   "source": [
    "### Projected Derivatives"
   ]
  },
  {
   "cell_type": "code",
   "execution_count": 7,
   "metadata": {},
   "outputs": [],
   "source": [
    "u_dot, Du = st.projected_covariant_derivative(nvec)"
   ]
  },
  {
   "cell_type": "code",
   "execution_count": 8,
   "metadata": {},
   "outputs": [
    {
     "data": {
      "image/png": "[encoded data removed]",
      "text/latex": [
       "$\\displaystyle \\left[\\begin{matrix}0 & 0 & 0 & 0\\end{matrix}\\right]$"
      ],
      "text/plain": [
       "[0  0  0  0]"
      ]
     },
     "execution_count": 8,
     "metadata": {},
     "output_type": "execute_result"
    }
   ],
   "source": [
    "u_dot.tensor()"
   ]
  },
  {
   "cell_type": "code",
   "execution_count": 9,
   "metadata": {},
   "outputs": [
    {
     "data": {
      "image/png": "[encoded data removed]",
      "text/latex": [
       "$\\displaystyle \\left[\\begin{matrix}\\frac{r_{s} \\sqrt{\\frac{r - r_{s}}{r}}}{2 r \\left(r - r_{s}\\right)} & 0 & 0 & 0\\\\0 & 0 & 0 & 0\\\\0 & 0 & \\frac{\\sqrt{\\frac{r - r_{s}}{r}}}{r} & 0\\\\0 & 0 & 0 & \\frac{\\sqrt{\\frac{r - r_{s}}{r}}}{r}\\end{matrix}\\right]$"
      ],
      "text/plain": [
       "⎡       ________                               ⎤\n",
       "⎢      ╱ r - rₛ                                ⎥\n",
       "⎢rₛ⋅  ╱  ──────                                ⎥\n",
       "⎢   ╲╱     r                                   ⎥\n",
       "⎢───────────────  0       0             0      ⎥\n",
       "⎢  2⋅r⋅(r - rₛ)                                ⎥\n",
       "⎢                                              ⎥\n",
       "⎢       0         0       0             0      ⎥\n",
       "⎢                                              ⎥\n",
       "⎢                        ________              ⎥\n",
       "⎢                       ╱ r - rₛ               ⎥\n",
       "⎢                      ╱  ──────               ⎥\n",
       "⎢                    ╲╱     r                  ⎥\n",
       "⎢       0         0  ────────────       0      ⎥\n",
       "⎢                         r                    ⎥\n",
       "⎢                                              ⎥\n",
       "⎢                                      ________⎥\n",
       "⎢                                     ╱ r - rₛ ⎥\n",
       "⎢                                    ╱  ────── ⎥\n",
       "⎢                                  ╲╱     r    ⎥\n",
       "⎢       0         0       0        ────────────⎥\n",
       "⎣                                       r      ⎦"
      ]
     },
     "execution_count": 9,
     "metadata": {},
     "output_type": "execute_result"
    }
   ],
   "source": [
    "Du.tensor()"
   ]
  },
  {
   "cell_type": "markdown",
   "metadata": {},
   "source": [
    "### Projected Tensors"
   ]
  },
  {
   "cell_type": "code",
   "execution_count": 10,
   "metadata": {},
   "outputs": [
    {
     "data": {
      "image/png": "[encoded data removed]",
      "text/latex": [
       "$\\displaystyle \\left[\\begin{matrix}s_{00} & s_{01} & s_{02} & s_{03}\\\\s_{10} & s_{11} & s_{12} & s_{13}\\\\s_{20} & s_{21} & s_{22} & s_{23}\\\\s_{30} & s_{31} & s_{32} & s_{33}\\end{matrix}\\right]$"
      ],
      "text/plain": [
       "⎡s₀₀  s₀₁  s₀₂  s₀₃⎤\n",
       "⎢                  ⎥\n",
       "⎢s₁₀  s₁₁  s₁₂  s₁₃⎥\n",
       "⎢                  ⎥\n",
       "⎢s₂₀  s₂₁  s₂₂  s₂₃⎥\n",
       "⎢                  ⎥\n",
       "⎣s₃₀  s₃₁  s₃₂  s₃₃⎦"
      ]
     },
     "execution_count": 10,
     "metadata": {},
     "output_type": "execute_result"
    }
   ],
   "source": [
    "symbolstring = \"s_00 s_01 s_02 s_03 s_10 s_11 s_12 s_13 s_20 s_21 s_22 s_23 s_30 s_31 s_32 s_33\"\n",
    "S = BaseRelativityTensor(sympy.Array([s for s in sympy.symbols(symbolstring)]).reshape(4,4), syms=g.symbols(), config='ll', parent_metric=g)\n",
    "S.tensor()"
   ]
  },
  {
   "cell_type": "code",
   "execution_count": 11,
   "metadata": {},
   "outputs": [
    {
     "data": {
      "image/png": "[encoded data removed]",
      "text/latex": [
       "$\\displaystyle \\left[\\begin{matrix}s_{00} & 0 & s_{20} & s_{30}\\\\0 & 0 & 0 & 0\\\\s_{02} & 0 & s_{22} & s_{32}\\\\s_{03} & 0 & s_{23} & s_{33}\\end{matrix}\\right]$"
      ],
      "text/plain": [
       "⎡s₀₀  0  s₂₀  s₃₀⎤\n",
       "⎢                ⎥\n",
       "⎢ 0   0   0    0 ⎥\n",
       "⎢                ⎥\n",
       "⎢s₀₂  0  s₂₂  s₃₂⎥\n",
       "⎢                ⎥\n",
       "⎣s₀₃  0  s₂₃  s₃₃⎦"
      ]
     },
     "execution_count": 11,
     "metadata": {},
     "output_type": "execute_result"
    }
   ],
   "source": [
    "S_proj = st.projection(S)\n",
    "S_proj.tensor()"
   ]
  },
  {
   "cell_type": "code",
   "execution_count": 12,
   "metadata": {},
   "outputs": [
    {
     "name": "stdout",
     "output_type": "stream",
     "text": [
      "True\n",
      "0\n"
     ]
    },
    {
     "data": {
      "image/png": "[encoded data removed]",
      "text/latex": [
       "$\\displaystyle \\left[\\begin{matrix}\\frac{2 r^{3} s_{00} + r s_{22} + \\frac{r s_{33}}{\\sin^{2}{\\left(\\theta \\right)}} - r_{s} s_{22} - \\frac{r_{s} s_{33}}{\\sin^{2}{\\left(\\theta \\right)}}}{3 r^{3}} & 0 & \\frac{s_{02}}{2} + \\frac{s_{20}}{2} & \\frac{s_{03}}{2} + \\frac{s_{30}}{2}\\\\0 & 0 & 0 & 0\\\\\\frac{s_{02}}{2} + \\frac{s_{20}}{2} & 0 & \\frac{r^{3} s_{00} + 2 r s_{22} - \\frac{r s_{33}}{\\sin^{2}{\\left(\\theta \\right)}} - 2 r_{s} s_{22} + \\frac{r_{s} s_{33}}{\\sin^{2}{\\left(\\theta \\right)}}}{3 \\left(r - r_{s}\\right)} & \\frac{s_{23}}{2} + \\frac{s_{32}}{2}\\\\\\frac{s_{03}}{2} + \\frac{s_{30}}{2} & 0 & \\frac{s_{23}}{2} + \\frac{s_{32}}{2} & \\frac{r^{3} s_{00} \\sin^{2}{\\left(\\theta \\right)} - s_{22} \\left(r - r_{s}\\right) \\sin^{2}{\\left(\\theta \\right)} + 2 s_{33} \\left(r - r_{s}\\right)}{3 \\left(r - r_{s}\\right)}\\end{matrix}\\right]$"
      ],
      "text/plain": [
       "⎡   3                r⋅s₃₃              rₛ⋅s₃₃                                \n",
       "⎢2⋅r ⋅s₀₀ + r⋅s₂₂ + ─────── - rₛ⋅s₂₂ - ───────                                \n",
       "⎢                      2                  2                                   \n",
       "⎢                   sin (θ)            sin (θ)                        s₀₂   s₂\n",
       "⎢─────────────────────────────────────────────  0                     ─── + ──\n",
       "⎢                        3                                             2     2\n",
       "⎢                     3⋅r                                                     \n",
       "⎢                                                                             \n",
       "⎢                      0                        0                         0   \n",
       "⎢                                                                             \n",
       "⎢                                                   3                  r⋅s₃₃  \n",
       "⎢                                                  r ⋅s₀₀ + 2⋅r⋅s₂₂ - ─────── \n",
       "⎢                                                                        2    \n",
       "⎢                  s₀₂   s₂₀                                          sin (θ) \n",
       "⎢                  ─── + ───                    0  ───────────────────────────\n",
       "⎢                   2     2                                           3⋅(r - r\n",
       "⎢                                                                             \n",
       "⎢                                                                             \n",
       "⎢                  s₀₃   s₃₀                                          s₂₃   s₃\n",
       "⎢                  ─── + ───                    0                     ─── + ──\n",
       "⎣                   2     2                                            2     2\n",
       "\n",
       "                                                                            ⎤\n",
       "                                                                            ⎥\n",
       "                                                                            ⎥\n",
       "₀                                           s₀₃   s₃₀                       ⎥\n",
       "─                                           ─── + ───                       ⎥\n",
       "                                             2     2                        ⎥\n",
       "                                                                            ⎥\n",
       "                                                                            ⎥\n",
       "                                                0                           ⎥\n",
       "                                                                            ⎥\n",
       "              rₛ⋅s₃₃                                                        ⎥\n",
       "- 2⋅rₛ⋅s₂₂ + ───────                                                        ⎥\n",
       "                2                                                           ⎥\n",
       "             sin (θ)                        s₂₃   s₃₂                       ⎥\n",
       "────────────────────                        ─── + ───                       ⎥\n",
       "ₛ)                                           2     2                        ⎥\n",
       "                                                                            ⎥\n",
       "                       3        2                      2                    ⎥\n",
       "₂                     r ⋅s₀₀⋅sin (θ) - s₂₂⋅(r - rₛ)⋅sin (θ) + 2⋅s₃₃⋅(r - rₛ)⎥\n",
       "─                     ──────────────────────────────────────────────────────⎥\n",
       "                                            3⋅(r - rₛ)                      ⎦"
      ]
     },
     "execution_count": 12,
     "metadata": {},
     "output_type": "execute_result"
    }
   ],
   "source": [
    "# Any projected tensor can be split into a projected symmetric tracefree part, ...\n",
    "S_pstf = st.pstf(S)\n",
    "print(S_pstf.symmetric_part().arr == S_pstf.arr)\n",
    "print(sympy.simplify(st.spatial_trace(S_pstf)))\n",
    "S_pstf.tensor()"
   ]
  },
  {
   "cell_type": "code",
   "execution_count": 13,
   "metadata": {},
   "outputs": [
    {
     "data": {
      "image/png": "[encoded data removed]",
      "text/latex": [
       "$\\displaystyle \\frac{r s_{00}}{r - r_{s}} - \\frac{s_{22}}{r^{2}} - \\frac{s_{33}}{r^{2} \\sin^{2}{\\left(\\theta \\right)}}$"
      ],
      "text/plain": [
       "r⋅s₀₀    s₂₂      s₃₃    \n",
       "────── - ─── - ──────────\n",
       "r - rₛ     2    2    2   \n",
       "          r    r ⋅sin (θ)"
      ]
     },
     "execution_count": 13,
     "metadata": {},
     "output_type": "execute_result"
    }
   ],
   "source": [
    "# a scalar trace part, ...\n",
    "S_t = st.spatial_trace(S)\n",
    "S_t"
   ]
  },
  {
   "cell_type": "code",
   "execution_count": 14,
   "metadata": {},
   "outputs": [
    {
     "data": {
      "image/png": "[encoded data removed]",
      "text/latex": [
       "$\\displaystyle \\left[\\begin{matrix}\\frac{\\sqrt{\\frac{r - r_{s}}{r}} \\sqrt{r^{4} \\sin^{2}{\\left(\\theta \\right)}} \\left(s_{23} - s_{32}\\right)}{2 r^{4} \\sin^{2}{\\left(\\theta \\right)}} & 0 & \\frac{\\sqrt{\\frac{r - r_{s}}{r}} \\sqrt{r^{4} \\sin^{2}{\\left(\\theta \\right)}} \\left(s_{03} - s_{30}\\right)}{2 r \\left(r - r_{s}\\right) \\sin^{2}{\\left(\\theta \\right)}} & \\frac{\\sqrt{\\frac{r - r_{s}}{r}} \\sqrt{r^{4} \\sin^{2}{\\left(\\theta \\right)}} \\left(- s_{02} + s_{20}\\right)}{2 r \\left(r - r_{s}\\right)}\\end{matrix}\\right]$"
      ],
      "text/plain": [
       "⎡    ________    ____________                     ________    ____________    \n",
       "⎢   ╱ r - rₛ    ╱  4    2                        ╱ r - rₛ    ╱  4    2        \n",
       "⎢  ╱  ────── ⋅╲╱  r ⋅sin (θ) ⋅(s₂₃ - s₃₂)       ╱  ────── ⋅╲╱  r ⋅sin (θ) ⋅(s₀\n",
       "⎢╲╱     r                                     ╲╱     r                        \n",
       "⎢────────────────────────────────────────  0  ────────────────────────────────\n",
       "⎢                 4    2                                                2     \n",
       "⎣              2⋅r ⋅sin (θ)                             2⋅r⋅(r - rₛ)⋅sin (θ)  \n",
       "\n",
       "              ________    ____________             ⎤\n",
       "             ╱ r - rₛ    ╱  4    2                 ⎥\n",
       "₃ - s₃₀)    ╱  ────── ⋅╲╱  r ⋅sin (θ) ⋅(-s₀₂ + s₂₀)⎥\n",
       "          ╲╱     r                                 ⎥\n",
       "────────  ─────────────────────────────────────────⎥\n",
       "                         2⋅r⋅(r - rₛ)              ⎥\n",
       "                                                   ⎦"
      ]
     },
     "execution_count": 14,
     "metadata": {},
     "output_type": "execute_result"
    }
   ],
   "source": [
    "# and a vector part, ...\n",
    "S_a = st.projected_vector_dual(S)\n",
    "S_a.tensor()"
   ]
  },
  {
   "cell_type": "code",
   "execution_count": 15,
   "metadata": {},
   "outputs": [
    {
     "data": {
      "image/png": "[encoded data removed]",
      "text/latex": [
       "$\\displaystyle \\left[\\begin{matrix}s_{00} & 0 & s_{02} & s_{03}\\\\0 & 0 & 0 & 0\\\\s_{20} & 0 & s_{22} & s_{23}\\\\s_{30} & 0 & s_{32} & s_{33}\\end{matrix}\\right]$"
      ],
      "text/plain": [
       "⎡s₀₀  0  s₀₂  s₀₃⎤\n",
       "⎢                ⎥\n",
       "⎢ 0   0   0    0 ⎥\n",
       "⎢                ⎥\n",
       "⎢s₂₀  0  s₂₂  s₂₃⎥\n",
       "⎢                ⎥\n",
       "⎣s₃₀  0  s₃₂  s₃₃⎦"
      ]
     },
     "execution_count": 15,
     "metadata": {},
     "output_type": "execute_result"
    }
   ],
   "source": [
    "# which together recover the original projected tensor\n",
    "sympy.simplify(S_t/3 * g.ProjectorTensor.tensor() \n",
    "                 + tensor_product(st.ProjectedAlternatingTensor, S_a.change_config(\"u\"), 2,0).tensor() \n",
    "                 + S_pstf.tensor() )"
   ]
  },
  {
   "cell_type": "markdown",
   "metadata": {},
   "source": [
    "### Dynamic Quantities"
   ]
  },
  {
   "cell_type": "code",
   "execution_count": 16,
   "metadata": {},
   "outputs": [
    {
     "data": {
      "image/png": "[encoded data removed]",
      "text/latex": [
       "$\\displaystyle \\frac{4 r - 3 r_{s}}{2 r^{2} \\sqrt{\\frac{r - r_{s}}{r}}}$"
      ],
      "text/plain": [
       "    4⋅r - 3⋅rₛ   \n",
       "─────────────────\n",
       "         ________\n",
       "   2    ╱ r - rₛ \n",
       "2⋅r ⋅  ╱  ────── \n",
       "     ╲╱     r    "
      ]
     },
     "execution_count": 16,
     "metadata": {},
     "output_type": "execute_result"
    }
   ],
   "source": [
    "sympy.simplify(st.ExpansionScalar)"
   ]
  },
  {
   "cell_type": "code",
   "execution_count": 17,
   "metadata": {},
   "outputs": [
    {
     "data": {
      "image/png": "[encoded data removed]",
      "text/latex": [
       "$\\displaystyle \\left[\\begin{matrix}\\frac{\\left(- 2 r + 3 r_{s}\\right) \\left(r - r_{s}\\right)}{3 r^{3} \\sqrt{\\frac{r - r_{s}}{r}}} & 0 & 0 & 0\\\\0 & 0 & 0 & 0\\\\0 & 0 & \\frac{- \\frac{r}{3} + \\frac{r_{s}}{2}}{\\sqrt{\\frac{r - r_{s}}{r}}} & 0\\\\0 & 0 & 0 & \\frac{\\left(- \\frac{r}{3} + \\frac{r_{s}}{2}\\right) \\sin^{2}{\\left(\\theta \\right)}}{\\sqrt{\\frac{r - r_{s}}{r}}}\\end{matrix}\\right]$"
      ],
      "text/plain": [
       "⎡(-2⋅r + 3⋅rₛ)⋅(r - rₛ)                                     ⎤\n",
       "⎢──────────────────────  0       0                0         ⎥\n",
       "⎢           ________                                        ⎥\n",
       "⎢     3    ╱ r - rₛ                                         ⎥\n",
       "⎢  3⋅r ⋅  ╱  ──────                                         ⎥\n",
       "⎢       ╲╱     r                                            ⎥\n",
       "⎢                                                           ⎥\n",
       "⎢          0             0       0                0         ⎥\n",
       "⎢                                                           ⎥\n",
       "⎢                               r   rₛ                      ⎥\n",
       "⎢                             - ─ + ──                      ⎥\n",
       "⎢                               3   2                       ⎥\n",
       "⎢          0             0  ────────────          0         ⎥\n",
       "⎢                               ________                    ⎥\n",
       "⎢                              ╱ r - rₛ                     ⎥\n",
       "⎢                             ╱  ──────                     ⎥\n",
       "⎢                           ╲╱     r                        ⎥\n",
       "⎢                                                           ⎥\n",
       "⎢                                         ⎛  r   rₛ⎞    2   ⎥\n",
       "⎢                                         ⎜- ─ + ──⎟⋅sin (θ)⎥\n",
       "⎢                                         ⎝  3   2 ⎠        ⎥\n",
       "⎢          0             0       0        ──────────────────⎥\n",
       "⎢                                                ________   ⎥\n",
       "⎢                                               ╱ r - rₛ    ⎥\n",
       "⎢                                              ╱  ──────    ⎥\n",
       "⎣                                            ╲╱     r       ⎦"
      ]
     },
     "execution_count": 17,
     "metadata": {},
     "output_type": "execute_result"
    }
   ],
   "source": [
    "st.ShearTensor.tensor()"
   ]
  },
  {
   "cell_type": "code",
   "execution_count": 18,
   "metadata": {},
   "outputs": [
    {
     "data": {
      "image/png": "[encoded data removed]",
      "text/latex": [
       "$\\displaystyle \\left[\\begin{matrix}0 & 0 & 0 & 0\\\\0 & 0 & 0 & 0\\\\0 & 0 & 0 & 0\\\\0 & 0 & 0 & 0\\end{matrix}\\right]$"
      ],
      "text/plain": [
       "⎡0  0  0  0⎤\n",
       "⎢          ⎥\n",
       "⎢0  0  0  0⎥\n",
       "⎢          ⎥\n",
       "⎢0  0  0  0⎥\n",
       "⎢          ⎥\n",
       "⎣0  0  0  0⎦"
      ]
     },
     "execution_count": 18,
     "metadata": {},
     "output_type": "execute_result"
    }
   ],
   "source": [
    "st.VorticityTensor.tensor()"
   ]
  }
 ],
 "metadata": {
  "kernelspec": {
   "display_name": "Python 3",
   "language": "python",
   "name": "python3"
  },
  "language_info": {
   "codemirror_mode": {
    "name": "ipython",
    "version": 3
   },
   "file_extension": ".py",
   "mimetype": "text/x-python",
   "name": "python",
   "nbconvert_exporter": "python",
   "pygments_lexer": "ipython3",
   "version": "3.8.10"
  }
 },
 "nbformat": 4,
 "nbformat_minor": 4
}
