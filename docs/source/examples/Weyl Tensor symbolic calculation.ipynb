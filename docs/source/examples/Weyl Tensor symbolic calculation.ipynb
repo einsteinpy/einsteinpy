{
 "cells": [
  {
   "cell_type": "markdown",
   "metadata": {},
   "source": [
    "# Weyl Tensor calculations using Symbolic module"
   ]
  },
  {
   "cell_type": "code",
   "execution_count": 1,
   "metadata": {},
   "outputs": [],
   "source": [
    "import sympy\n",
    "from sympy import cos, sin, sinh\n",
    "from einsteinpy.symbolic import MetricTensor, WeylTensor\n",
    "\n",
    "sympy.init_printing()"
   ]
  },
  {
   "cell_type": "markdown",
   "metadata": {},
   "source": [
    "### Defining the Anti-de Sitter spacetime Metric"
   ]
  },
  {
   "cell_type": "code",
   "execution_count": 2,
   "metadata": {},
   "outputs": [],
   "source": [
    "syms = sympy.symbols(\"t chi theta phi\")\n",
    "t, ch, th, ph = syms\n",
    "m = sympy.diag(-1, cos(t) ** 2, cos(t) ** 2 * sinh(ch) ** 2, cos(t) ** 2 * sinh(ch) ** 2 * sin(th) ** 2).tolist()\n",
    "metric = MetricTensor(m, syms)"
   ]
  },
  {
   "cell_type": "markdown",
   "metadata": {},
   "source": [
    "### Calculating the Weyl Tensor (with all indices covariant)"
   ]
  },
  {
   "cell_type": "code",
   "execution_count": 3,
   "metadata": {},
   "outputs": [
    {
     "data": {
      "text/latex": [
       "$\\displaystyle \\left[\\begin{matrix}\\left[\\begin{matrix}0 & 0 & 0 & 0\\\\0 & - \\cos^{2}{\\left(t \\right)} & 0 & 0\\\\0 & 0 & - \\cos^{2}{\\left(t \\right)} \\sinh^{2}{\\left(\\chi \\right)} & 0\\\\0 & 0 & 0 & - \\sin^{2}{\\left(\\theta \\right)} \\cos^{2}{\\left(t \\right)} \\sinh^{2}{\\left(\\chi \\right)}\\end{matrix}\\right] & \\left[\\begin{matrix}0 & 0 & 0 & 0\\\\\\cos^{2}{\\left(t \\right)} & 0 & 0 & 0\\\\0 & 0 & 0 & 0\\\\0 & 0 & 0 & 0\\end{matrix}\\right] & \\left[\\begin{matrix}0 & 0 & 0 & 0\\\\0 & 0 & 0 & 0\\\\\\cos^{2}{\\left(t \\right)} \\sinh^{2}{\\left(\\chi \\right)} & 0 & 0 & 0\\\\0 & 0 & 0 & 0\\end{matrix}\\right] & \\left[\\begin{matrix}0 & 0 & 0 & 0\\\\0 & 0 & 0 & 0\\\\0 & 0 & 0 & 0\\\\\\sin^{2}{\\left(\\theta \\right)} \\cos^{2}{\\left(t \\right)} \\sinh^{2}{\\left(\\chi \\right)} & 0 & 0 & 0\\end{matrix}\\right]\\\\\\left[\\begin{matrix}0 & \\cos^{2}{\\left(t \\right)} & 0 & 0\\\\0 & 0 & 0 & 0\\\\0 & 0 & 0 & 0\\\\0 & 0 & 0 & 0\\end{matrix}\\right] & \\left[\\begin{matrix}- \\cos^{2}{\\left(t \\right)} & 0 & 0 & 0\\\\0 & 0 & 0 & 0\\\\0 & 0 & \\cos^{4}{\\left(t \\right)} \\sinh^{2}{\\left(\\chi \\right)} & 0\\\\0 & 0 & 0 & \\sin^{2}{\\left(\\theta \\right)} \\cos^{4}{\\left(t \\right)} \\sinh^{2}{\\left(\\chi \\right)}\\end{matrix}\\right] & \\left[\\begin{matrix}0 & 0 & 0 & 0\\\\0 & 0 & 0 & 0\\\\0 & - \\cos^{4}{\\left(t \\right)} \\sinh^{2}{\\left(\\chi \\right)} & 0 & 0\\\\0 & 0 & 0 & 0\\end{matrix}\\right] & \\left[\\begin{matrix}0 & 0 & 0 & 0\\\\0 & 0 & 0 & 0\\\\0 & 0 & 0 & 0\\\\0 & - \\sin^{2}{\\left(\\theta \\right)} \\cos^{4}{\\left(t \\right)} \\sinh^{2}{\\left(\\chi \\right)} & 0 & 0\\end{matrix}\\right]\\\\\\left[\\begin{matrix}0 & 0 & \\cos^{2}{\\left(t \\right)} \\sinh^{2}{\\left(\\chi \\right)} & 0\\\\0 & 0 & 0 & 0\\\\0 & 0 & 0 & 0\\\\0 & 0 & 0 & 0\\end{matrix}\\right] & \\left[\\begin{matrix}0 & 0 & 0 & 0\\\\0 & 0 & - \\cos^{4}{\\left(t \\right)} \\sinh^{2}{\\left(\\chi \\right)} & 0\\\\0 & 0 & 0 & 0\\\\0 & 0 & 0 & 0\\end{matrix}\\right] & \\left[\\begin{matrix}- \\cos^{2}{\\left(t \\right)} \\sinh^{2}{\\left(\\chi \\right)} & 0 & 0 & 0\\\\0 & \\cos^{4}{\\left(t \\right)} \\sinh^{2}{\\left(\\chi \\right)} & 0 & 0\\\\0 & 0 & 0 & 0\\\\0 & 0 & 0 & \\sin^{2}{\\left(\\theta \\right)} \\cos^{4}{\\left(t \\right)} \\sinh^{4}{\\left(\\chi \\right)}\\end{matrix}\\right] & \\left[\\begin{matrix}0 & 0 & 0 & 0\\\\0 & 0 & 0 & 0\\\\0 & 0 & 0 & 0\\\\0 & 0 & - \\sin^{2}{\\left(\\theta \\right)} \\cos^{4}{\\left(t \\right)} \\sinh^{4}{\\left(\\chi \\right)} & 0\\end{matrix}\\right]\\\\\\left[\\begin{matrix}0 & 0 & 0 & \\sin^{2}{\\left(\\theta \\right)} \\cos^{2}{\\left(t \\right)} \\sinh^{2}{\\left(\\chi \\right)}\\\\0 & 0 & 0 & 0\\\\0 & 0 & 0 & 0\\\\0 & 0 & 0 & 0\\end{matrix}\\right] & \\left[\\begin{matrix}0 & 0 & 0 & 0\\\\0 & 0 & 0 & - \\sin^{2}{\\left(\\theta \\right)} \\cos^{4}{\\left(t \\right)} \\sinh^{2}{\\left(\\chi \\right)}\\\\0 & 0 & 0 & 0\\\\0 & 0 & 0 & 0\\end{matrix}\\right] & \\left[\\begin{matrix}0 & 0 & 0 & 0\\\\0 & 0 & 0 & 0\\\\0 & 0 & 0 & - \\sin^{2}{\\left(\\theta \\right)} \\cos^{4}{\\left(t \\right)} \\sinh^{4}{\\left(\\chi \\right)}\\\\0 & 0 & 0 & 0\\end{matrix}\\right] & \\left[\\begin{matrix}- \\sin^{2}{\\left(\\theta \\right)} \\cos^{2}{\\left(t \\right)} \\sinh^{2}{\\left(\\chi \\right)} & 0 & 0 & 0\\\\0 & \\sin^{2}{\\left(\\theta \\right)} \\cos^{4}{\\left(t \\right)} \\sinh^{2}{\\left(\\chi \\right)} & 0 & 0\\\\0 & 0 & \\sin^{2}{\\left(\\theta \\right)} \\cos^{4}{\\left(t \\right)} \\sinh^{4}{\\left(\\chi \\right)} & 0\\\\0 & 0 & 0 & 0\\end{matrix}\\right]\\end{matrix}\\right]$"
      ],
      "text/plain": [
       "⎡⎡0     0              0                      0            ⎤                  \n",
       "⎢⎢                                                         ⎥                  \n",
       "⎢⎢       2                                                 ⎥                  \n",
       "⎢⎢0  -cos (t)          0                      0            ⎥                  \n",
       "⎢⎢                                                         ⎥                  \n",
       "⎢⎢                 2        2                              ⎥                  \n",
       "⎢⎢0     0      -cos (t)⋅sinh (χ)              0            ⎥                  \n",
       "⎢⎢                                                         ⎥                  \n",
       "⎢⎢                                    2       2        2   ⎥                  \n",
       "⎢⎣0     0              0          -sin (θ)⋅cos (t)⋅sinh (χ)⎦                  \n",
       "⎢                                                                             \n",
       "⎢                                                             ⎡    2          \n",
       "⎢                    ⎡      2         ⎤                       ⎢-cos (t)  0    \n",
       "⎢                    ⎢0  cos (t)  0  0⎥                       ⎢               \n",
       "⎢                    ⎢                ⎥                       ⎢   0      0    \n",
       "⎢                    ⎢0     0     0  0⎥                       ⎢               \n",
       "⎢                    ⎢                ⎥                       ⎢               \n",
       "⎢                    ⎢0     0     0  0⎥                       ⎢   0      0  co\n",
       "⎢                    ⎢                ⎥                       ⎢               \n",
       "⎢                    ⎣0     0     0  0⎦                       ⎢               \n",
       "⎢                                                             ⎣   0      0    \n",
       "⎢                                                                             \n",
       "⎢                                                                             \n",
       "⎢                ⎡         2        2      ⎤                                ⎡0\n",
       "⎢                ⎢0  0  cos (t)⋅sinh (χ)  0⎥                                ⎢ \n",
       "⎢                ⎢                         ⎥                                ⎢ \n",
       "⎢                ⎢0  0         0          0⎥                                ⎢0\n",
       "⎢                ⎢                         ⎥                                ⎢ \n",
       "⎢                ⎢0  0         0          0⎥                                ⎢0\n",
       "⎢                ⎢                         ⎥                                ⎢ \n",
       "⎢                ⎣0  0         0          0⎦                                ⎣0\n",
       "⎢                                                                             \n",
       "⎢                                                                             \n",
       "⎢                                                                             \n",
       "⎢            ⎡            2       2        2   ⎤                        ⎡0  0 \n",
       "⎢            ⎢0  0  0  sin (θ)⋅cos (t)⋅sinh (χ)⎥                        ⎢     \n",
       "⎢            ⎢                                 ⎥                        ⎢     \n",
       "⎢            ⎢0  0  0             0            ⎥                        ⎢0  0 \n",
       "⎢            ⎢                                 ⎥                        ⎢     \n",
       "⎢            ⎢0  0  0             0            ⎥                        ⎢0  0 \n",
       "⎢            ⎢                                 ⎥                        ⎢     \n",
       "⎢            ⎣0  0  0             0            ⎦                        ⎣0  0 \n",
       "⎣                                                                             \n",
       "\n",
       "                                                                              \n",
       "   ⎡   0     0  0  0⎤                                         ⎡       0       \n",
       "   ⎢                ⎥                                         ⎢               \n",
       "   ⎢   2            ⎥                                         ⎢       0       \n",
       "   ⎢cos (t)  0  0  0⎥                                         ⎢               \n",
       "   ⎢                ⎥                                         ⎢   2        2  \n",
       "   ⎢   0     0  0  0⎥                                         ⎢cos (t)⋅sinh (χ\n",
       "   ⎢                ⎥                                         ⎢               \n",
       "   ⎣   0     0  0  0⎦                                         ⎣       0       \n",
       "                                                                              \n",
       "                                                                              \n",
       "                                        ⎤                                     \n",
       "     0                     0            ⎥                     ⎡0          0   \n",
       "                                        ⎥                     ⎢               \n",
       "     0                     0            ⎥                     ⎢0          0   \n",
       "                                        ⎥                     ⎢               \n",
       " 4        2                             ⎥                     ⎢       4       \n",
       "s (t)⋅sinh (χ)             0            ⎥                     ⎢0  -cos (t)⋅sin\n",
       "                                        ⎥                     ⎢               \n",
       "                   2       4        2   ⎥                     ⎣0          0   \n",
       "     0          sin (θ)⋅cos (t)⋅sinh (χ)⎦                                     \n",
       "                                                                              \n",
       "                                           ⎡    2        2                    \n",
       "  0          0          0⎤                 ⎢-cos (t)⋅sinh (χ)         0       \n",
       "                         ⎥                 ⎢                                  \n",
       "         4        2      ⎥                 ⎢                      4        2  \n",
       "  0  -cos (t)⋅sinh (χ)  0⎥                 ⎢        0          cos (t)⋅sinh (χ\n",
       "                         ⎥                 ⎢                                  \n",
       "  0          0          0⎥                 ⎢        0                 0       \n",
       "                         ⎥                 ⎢                                  \n",
       "  0          0          0⎦                 ⎢                                  \n",
       "                                           ⎣        0                 0       \n",
       "                                                                              \n",
       "                                                                              \n",
       " 0              0            ⎤                            ⎡0  0  0            \n",
       "                             ⎥                            ⎢                   \n",
       "        2       4        2   ⎥                            ⎢0  0  0            \n",
       " 0  -sin (θ)⋅cos (t)⋅sinh (χ)⎥                            ⎢                   \n",
       "                             ⎥                            ⎢             2     \n",
       " 0              0            ⎥                            ⎢0  0  0  -sin (θ)⋅c\n",
       "                             ⎥                            ⎢                   \n",
       " 0              0            ⎦                            ⎣0  0  0            \n",
       "                                                                              \n",
       "\n",
       "                                                                              \n",
       "   0  0  0⎤                                             ⎡           0         \n",
       "          ⎥                                             ⎢                     \n",
       "   0  0  0⎥                                             ⎢           0         \n",
       "          ⎥                                             ⎢                     \n",
       "          ⎥                                             ⎢           0         \n",
       ")  0  0  0⎥                                             ⎢                     \n",
       "          ⎥                                             ⎢   2       2        2\n",
       "   0  0  0⎦                                             ⎣sin (θ)⋅cos (t)⋅sinh \n",
       "                                                                              \n",
       "                                                                              \n",
       "                                                                              \n",
       "       0  0⎤                                            ⎡0              0     \n",
       "           ⎥                                            ⎢                     \n",
       "       0  0⎥                                            ⎢0              0     \n",
       "           ⎥                                            ⎢                     \n",
       " 2         ⎥                                            ⎢0              0     \n",
       "h (χ)  0  0⎥                                            ⎢                     \n",
       "           ⎥                                            ⎢       2       4     \n",
       "       0  0⎦                                            ⎣0  -sin (θ)⋅cos (t)⋅s\n",
       "                                                                              \n",
       "                                                                              \n",
       "                              ⎤                                               \n",
       "   0             0            ⎥                         ⎡0  0              0  \n",
       "                              ⎥                         ⎢                     \n",
       "                              ⎥                         ⎢0  0              0  \n",
       ")  0             0            ⎥                         ⎢                     \n",
       "                              ⎥                         ⎢0  0              0  \n",
       "   0             0            ⎥                         ⎢                     \n",
       "                              ⎥                         ⎢          2       4  \n",
       "         2       4        4   ⎥                         ⎣0  0  -sin (θ)⋅cos (t\n",
       "   0  sin (θ)⋅cos (t)⋅sinh (χ)⎦                                               \n",
       "                                                                              \n",
       "                                 ⎡    2       2        2                      \n",
       "  0            ⎤                 ⎢-sin (θ)⋅cos (t)⋅sinh (χ)             0     \n",
       "               ⎥                 ⎢                                            \n",
       "  0            ⎥                 ⎢                              2       4     \n",
       "               ⎥                 ⎢            0              sin (θ)⋅cos (t)⋅s\n",
       "  4        4   ⎥                 ⎢                                            \n",
       "os (t)⋅sinh (χ)⎥                 ⎢                                            \n",
       "               ⎥                 ⎢            0                         0     \n",
       "  0            ⎦                 ⎢                                            \n",
       "                                 ⎣            0                         0     \n",
       "\n",
       "                                     ⎤\n",
       "     0  0  0⎤                        ⎥\n",
       "            ⎥                        ⎥\n",
       "     0  0  0⎥                        ⎥\n",
       "            ⎥                        ⎥\n",
       "     0  0  0⎥                        ⎥\n",
       "            ⎥                        ⎥\n",
       "            ⎥                        ⎥\n",
       "(χ)  0  0  0⎦                        ⎥\n",
       "                                     ⎥\n",
       "                                     ⎥\n",
       "                                     ⎥\n",
       "         0  0⎤                       ⎥\n",
       "             ⎥                       ⎥\n",
       "         0  0⎥                       ⎥\n",
       "             ⎥                       ⎥\n",
       "         0  0⎥                       ⎥\n",
       "             ⎥                       ⎥\n",
       "   2         ⎥                       ⎥\n",
       "inh (χ)  0  0⎦                       ⎥\n",
       "                                     ⎥\n",
       "                                     ⎥\n",
       "                                     ⎥\n",
       "            0⎤                       ⎥\n",
       "             ⎥                       ⎥\n",
       "            0⎥                       ⎥\n",
       "             ⎥                       ⎥\n",
       "            0⎥                       ⎥\n",
       "             ⎥                       ⎥\n",
       "      4      ⎥                       ⎥\n",
       ")⋅sinh (χ)  0⎦                       ⎥\n",
       "                                     ⎥\n",
       "                                     ⎥\n",
       "                                    ⎤⎥\n",
       "                    0              0⎥⎥\n",
       "                                    ⎥⎥\n",
       "   2                                ⎥⎥\n",
       "inh (χ)             0              0⎥⎥\n",
       "                                    ⎥⎥\n",
       "            2       4        4      ⎥⎥\n",
       "         sin (θ)⋅cos (t)⋅sinh (χ)  0⎥⎥\n",
       "                                    ⎥⎥\n",
       "                    0              0⎦⎦"
      ]
     },
     "execution_count": 3,
     "metadata": {},
     "output_type": "execute_result"
    }
   ],
   "source": [
    "weyl = WeylTensor.from_metric(metric)\n",
    "weyl.tensor()"
   ]
  },
  {
   "cell_type": "code",
   "execution_count": 4,
   "metadata": {},
   "outputs": [
    {
     "data": {
      "text/plain": [
       "'llll'"
      ]
     },
     "execution_count": 4,
     "metadata": {},
     "output_type": "execute_result"
    }
   ],
   "source": [
    "weyl.config"
   ]
  }
 ],
 "metadata": {
  "kernelspec": {
   "display_name": "Python 3",
   "language": "python",
   "name": "python3"
  },
  "language_info": {
   "codemirror_mode": {
    "name": "ipython",
    "version": 3
   },
   "file_extension": ".py",
   "mimetype": "text/x-python",
   "name": "python",
   "nbconvert_exporter": "python",
   "pygments_lexer": "ipython3",
   "version": "3.8.5"
  }
 },
 "nbformat": 4,
 "nbformat_minor": 2
}
