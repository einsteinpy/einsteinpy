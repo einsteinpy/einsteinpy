{
 "cells": [
  {
   "cell_type": "markdown",
   "metadata": {},
   "source": [
    "# Predefined Metrics in Symbolic Module\n",
    "\n",
    "### Importing some of the predefined tensors. All the metrics are comprehensively listed in EinsteinPy documentation."
   ]
  },
  {
   "cell_type": "code",
   "execution_count": 1,
   "metadata": {},
   "outputs": [],
   "source": [
    "from einsteinpy.symbolic.predefined import Schwarzschild, DeSitter, AntiDeSitter, Minkowski, find\n",
    "from einsteinpy.symbolic import RicciTensor, RicciScalar\n",
    "import sympy\n",
    "from sympy import simplify\n",
    "\n",
    "sympy.init_printing()  # for pretty printing"
   ]
  },
  {
   "cell_type": "markdown",
   "metadata": {},
   "source": [
    "### Printing the metrics for visualization\n",
    "All the functions return instances of :py:class:`~einsteinpy.symbolic.metric.MetricTensor`"
   ]
  },
  {
   "cell_type": "code",
   "execution_count": 2,
   "metadata": {},
   "outputs": [
    {
     "data": {
      "text/latex": [
       "$\\displaystyle \\left[\\begin{matrix}1 - \\frac{r_{s}}{r} & 0 & 0 & 0\\\\0 & - \\frac{1}{c^{2} \\left(1 - \\frac{r_{s}}{r}\\right)} & 0 & 0\\\\0 & 0 & - \\frac{r^{2}}{c^{2}} & 0\\\\0 & 0 & 0 & - \\frac{r^{2} \\sin^{2}{\\left(\\theta \\right)}}{c^{2}}\\end{matrix}\\right]$"
      ],
      "text/plain": [
       "⎡    rₛ                                 ⎤\n",
       "⎢1 - ──       0        0         0      ⎥\n",
       "⎢    r                                  ⎥\n",
       "⎢                                       ⎥\n",
       "⎢            -1                         ⎥\n",
       "⎢  0     ───────────   0         0      ⎥\n",
       "⎢         2 ⎛    rₛ⎞                    ⎥\n",
       "⎢        c ⋅⎜1 - ──⎟                    ⎥\n",
       "⎢           ⎝    r ⎠                    ⎥\n",
       "⎢                                       ⎥\n",
       "⎢                       2               ⎥\n",
       "⎢                     -r                ⎥\n",
       "⎢  0          0       ────       0      ⎥\n",
       "⎢                       2               ⎥\n",
       "⎢                      c                ⎥\n",
       "⎢                                       ⎥\n",
       "⎢                             2    2    ⎥\n",
       "⎢                           -r ⋅sin (θ) ⎥\n",
       "⎢  0          0        0    ────────────⎥\n",
       "⎢                                 2     ⎥\n",
       "⎣                                c      ⎦"
      ]
     },
     "execution_count": 2,
     "metadata": {},
     "output_type": "execute_result"
    }
   ],
   "source": [
    "sch = Schwarzschild()\n",
    "sch.tensor()"
   ]
  },
  {
   "cell_type": "code",
   "execution_count": 3,
   "metadata": {},
   "outputs": [
    {
     "data": {
      "text/latex": [
       "$\\displaystyle \\left[\\begin{matrix}-1 & 0 & 0 & 0\\\\0 & 1.0 & 0 & 0\\\\0 & 0 & 1.0 & 0\\\\0 & 0 & 0 & 1.0\\end{matrix}\\right]$"
      ],
      "text/plain": [
       "⎡-1   0    0    0 ⎤\n",
       "⎢                 ⎥\n",
       "⎢0   1.0   0    0 ⎥\n",
       "⎢                 ⎥\n",
       "⎢0    0   1.0   0 ⎥\n",
       "⎢                 ⎥\n",
       "⎣0    0    0   1.0⎦"
      ]
     },
     "execution_count": 3,
     "metadata": {},
     "output_type": "execute_result"
    }
   ],
   "source": [
    "Minkowski(c=1).tensor()"
   ]
  },
  {
   "cell_type": "code",
   "execution_count": 4,
   "metadata": {},
   "outputs": [
    {
     "data": {
      "text/latex": [
       "$\\displaystyle \\left[\\begin{matrix}-1 & 0 & 0 & 0\\\\0 & e^{\\frac{2 x}{\\alpha}} & 0 & 0\\\\0 & 0 & e^{\\frac{2 x}{\\alpha}} & 0\\\\0 & 0 & 0 & e^{\\frac{2 x}{\\alpha}}\\end{matrix}\\right]$"
      ],
      "text/plain": [
       "⎡-1   0     0     0  ⎤\n",
       "⎢                    ⎥\n",
       "⎢     2⋅x            ⎥\n",
       "⎢     ───            ⎥\n",
       "⎢      α             ⎥\n",
       "⎢0   ℯ      0     0  ⎥\n",
       "⎢                    ⎥\n",
       "⎢           2⋅x      ⎥\n",
       "⎢           ───      ⎥\n",
       "⎢            α       ⎥\n",
       "⎢0    0    ℯ      0  ⎥\n",
       "⎢                    ⎥\n",
       "⎢                 2⋅x⎥\n",
       "⎢                 ───⎥\n",
       "⎢                  α ⎥\n",
       "⎣0    0     0    ℯ   ⎦"
      ]
     },
     "execution_count": 4,
     "metadata": {},
     "output_type": "execute_result"
    }
   ],
   "source": [
    "DeSitter().tensor()"
   ]
  },
  {
   "cell_type": "code",
   "execution_count": 5,
   "metadata": {},
   "outputs": [
    {
     "data": {
      "text/latex": [
       "$\\displaystyle \\left[\\begin{matrix}-1 & 0 & 0 & 0\\\\0 & \\cos^{2}{\\left(t \\right)} & 0 & 0\\\\0 & 0 & \\cos^{2}{\\left(t \\right)} \\sinh^{2}{\\left(\\chi \\right)} & 0\\\\0 & 0 & 0 & \\sin^{2}{\\left(\\theta \\right)} \\cos^{2}{\\left(t \\right)} \\sinh^{2}{\\left(\\chi \\right)}\\end{matrix}\\right]$"
      ],
      "text/plain": [
       "⎡-1     0            0                     0            ⎤\n",
       "⎢                                                       ⎥\n",
       "⎢       2                                               ⎥\n",
       "⎢0   cos (t)         0                     0            ⎥\n",
       "⎢                                                       ⎥\n",
       "⎢                2        2                             ⎥\n",
       "⎢0      0     cos (t)⋅sinh (χ)             0            ⎥\n",
       "⎢                                                       ⎥\n",
       "⎢                                  2       2        2   ⎥\n",
       "⎣0      0            0          sin (θ)⋅cos (t)⋅sinh (χ)⎦"
      ]
     },
     "execution_count": 5,
     "metadata": {},
     "output_type": "execute_result"
    }
   ],
   "source": [
    "AntiDeSitter().tensor()"
   ]
  },
  {
   "cell_type": "markdown",
   "metadata": {},
   "source": [
    "### Calculating the scalar (Ricci) curavtures\n",
    "They should be constant for De-Sitter and Anti-De-Sitter spacetimes."
   ]
  },
  {
   "cell_type": "code",
   "execution_count": 6,
   "metadata": {},
   "outputs": [],
   "source": [
    "scalar_curvature_de_sitter = RicciScalar.from_metric(DeSitter())\n",
    "scalar_curvature_anti_de_sitter = RicciScalar.from_metric(AntiDeSitter())"
   ]
  },
  {
   "cell_type": "code",
   "execution_count": 7,
   "metadata": {},
   "outputs": [
    {
     "data": {
      "image/png": "[encoded data removed]",
      "text/latex": [
       "$\\displaystyle - \\frac{2 e^{- \\frac{2 x}{\\alpha}}}{\\alpha^{2}}$"
      ],
      "text/plain": [
       "    -2⋅x  \n",
       "    ───── \n",
       "      α   \n",
       "-2⋅ℯ      \n",
       "──────────\n",
       "     2    \n",
       "    α     "
      ]
     },
     "execution_count": 7,
     "metadata": {},
     "output_type": "execute_result"
    }
   ],
   "source": [
    "scalar_curvature_de_sitter.expr"
   ]
  },
  {
   "cell_type": "code",
   "execution_count": 8,
   "metadata": {},
   "outputs": [
    {
     "data": {
      "image/png": "[encoded data removed]",
      "text/latex": [
       "$\\displaystyle \\frac{\\left(\\sin^{2}{\\left(t \\right)} - 1\\right) \\sinh^{2}{\\left(\\chi \\right)} - 2 \\cos^{2}{\\left(t \\right)} \\sinh^{2}{\\left(\\chi \\right)}}{\\cos^{2}{\\left(t \\right)} \\sinh^{2}{\\left(\\chi \\right)}} + \\frac{\\left(\\sin^{2}{\\left(t \\right)} - 1\\right) \\sin^{2}{\\left(\\theta \\right)} \\sinh^{2}{\\left(\\chi \\right)} - 2 \\sin^{2}{\\left(\\theta \\right)} \\cos^{2}{\\left(t \\right)} \\sinh^{2}{\\left(\\chi \\right)}}{\\sin^{2}{\\left(\\theta \\right)} \\cos^{2}{\\left(t \\right)} \\sinh^{2}{\\left(\\chi \\right)}} - 6$"
      ],
      "text/plain": [
       "⎛   2       ⎞     2           2        2      ⎛   2       ⎞    2        2     \n",
       "⎝sin (t) - 1⎠⋅sinh (χ) - 2⋅cos (t)⋅sinh (χ)   ⎝sin (t) - 1⎠⋅sin (θ)⋅sinh (χ) -\n",
       "─────────────────────────────────────────── + ────────────────────────────────\n",
       "                 2        2                                        2       2  \n",
       "              cos (t)⋅sinh (χ)                                  sin (θ)⋅cos (t\n",
       "\n",
       "      2       2        2       \n",
       " 2⋅sin (θ)⋅cos (t)⋅sinh (χ)    \n",
       "─────────────────────────── - 6\n",
       "      2                        \n",
       ")⋅sinh (χ)                     "
      ]
     },
     "execution_count": 8,
     "metadata": {},
     "output_type": "execute_result"
    }
   ],
   "source": [
    "scalar_curvature_anti_de_sitter.expr"
   ]
  },
  {
   "cell_type": "markdown",
   "metadata": {},
   "source": [
    "On simplifying the expression we got above, we indeed obtain a constant"
   ]
  },
  {
   "cell_type": "code",
   "execution_count": 9,
   "metadata": {},
   "outputs": [
    {
     "data": {
      "image/png": "[encoded data removed]",
      "text/latex": [
       "$\\displaystyle -12$"
      ],
      "text/plain": [
       "-12"
      ]
     },
     "execution_count": 9,
     "metadata": {},
     "output_type": "execute_result"
    }
   ],
   "source": [
    "simplify(scalar_curvature_anti_de_sitter.expr)"
   ]
  },
  {
   "cell_type": "markdown",
   "metadata": {},
   "source": [
    "### Searching for a predefined metric\n",
    "find function returns a list of available functions"
   ]
  },
  {
   "cell_type": "code",
   "execution_count": 10,
   "metadata": {},
   "outputs": [
    {
     "data": {
      "text/plain": [
       "['AntiDeSitter', 'AntiDeSitterStatic', 'DeSitter']"
      ]
     },
     "execution_count": 10,
     "metadata": {},
     "output_type": "execute_result"
    }
   ],
   "source": [
    "find(\"sitter\")"
   ]
  }
 ],
 "metadata": {
  "kernelspec": {
   "display_name": "Python 3",
   "language": "python",
   "name": "python3"
  },
  "language_info": {
   "codemirror_mode": {
    "name": "ipython",
    "version": 3
   },
   "file_extension": ".py",
   "mimetype": "text/x-python",
   "name": "python",
   "nbconvert_exporter": "python",
   "pygments_lexer": "ipython3",
   "version": "3.7.0"
  }
 },
 "nbformat": 4,
 "nbformat_minor": 2
}
