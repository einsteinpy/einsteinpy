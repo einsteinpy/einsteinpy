{
 "cells": [
  {
   "cell_type": "markdown",
   "metadata": {},
   "source": [
    "# Einstein Tensor calculations using Symbolic module"
   ]
  },
  {
   "cell_type": "code",
   "execution_count": 1,
   "metadata": {},
   "outputs": [],
   "source": [
    "import sympy\n",
    "from sympy import symbols, sin, cos, sinh\n",
    "from einsteinpy.symbolic import EinsteinTensor, MetricTensor\n",
    "\n",
    "sympy.init_printing()"
   ]
  },
  {
   "cell_type": "markdown",
   "metadata": {},
   "source": [
    "### Defining the Anti-de Sitter spacetime Metric"
   ]
  },
  {
   "cell_type": "code",
   "execution_count": 2,
   "metadata": {},
   "outputs": [],
   "source": [
    "syms = sympy.symbols(\"t chi theta phi\")\n",
    "t, ch, th, ph = syms\n",
    "m = sympy.diag(-1, cos(t) ** 2, cos(t) ** 2 * sinh(ch) ** 2, cos(t) ** 2 * sinh(ch) ** 2 * sin(th) ** 2).tolist()\n",
    "metric = MetricTensor(m, syms)"
   ]
  },
  {
   "cell_type": "markdown",
   "metadata": {},
   "source": [
    "### Calculating the Einstein Tensor (with both indices covariant)"
   ]
  },
  {
   "cell_type": "code",
   "execution_count": 3,
   "metadata": {},
   "outputs": [
    {
     "data": {
      "image/png": "[encoded data removed]",
      "text/latex": [
       "$\\displaystyle \\left[\\begin{matrix}-3.0 & 0 & 0 & 0\\\\0 & 3.0 \\cos^{2}{\\left(t \\right)} & 0 & 0\\\\0 & 0 & 3.0 \\cos^{2}{\\left(t \\right)} \\sinh^{2}{\\left(\\chi \\right)} & 0\\\\0 & 0 & 0 & 3.0 \\sin^{2}{\\left(\\theta \\right)} \\cos^{2}{\\left(t \\right)} \\sinh^{2}{\\left(\\chi \\right)}\\end{matrix}\\right]$"
      ],
      "text/plain": [
       "⎡-3.0       0                0                         0              ⎤\n",
       "⎢                                                                     ⎥\n",
       "⎢             2                                                       ⎥\n",
       "⎢ 0    3.0⋅cos (t)           0                         0              ⎥\n",
       "⎢                                                                     ⎥\n",
       "⎢                          2        2                                 ⎥\n",
       "⎢ 0         0       3.0⋅cos (t)⋅sinh (χ)               0              ⎥\n",
       "⎢                                                                     ⎥\n",
       "⎢                                                2       2        2   ⎥\n",
       "⎣ 0         0                0            3.0⋅sin (θ)⋅cos (t)⋅sinh (χ)⎦"
      ]
     },
     "execution_count": 3,
     "metadata": {},
     "output_type": "execute_result"
    }
   ],
   "source": [
    "einst = EinsteinTensor.from_metric(metric)\n",
    "einst.tensor()"
   ]
  }
 ],
 "metadata": {
  "kernelspec": {
   "display_name": "Python 3",
   "language": "python",
   "name": "python3"
  },
  "language_info": {
   "codemirror_mode": {
    "name": "ipython",
    "version": 3
   },
   "file_extension": ".py",
   "mimetype": "text/x-python",
   "name": "python",
   "nbconvert_exporter": "python",
   "pygments_lexer": "ipython3",
   "version": "3.8.5"
  }
 },
 "nbformat": 4,
 "nbformat_minor": 2
}
